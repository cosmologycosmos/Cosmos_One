{
  "nbformat": 4,
  "nbformat_minor": 0,
  "metadata": {
    "colab": {
      "name": "sympy_.ipynb",
      "provenance": [],
      "authorship_tag": "ABX9TyPLmmedTuTkAxSg3mHWebd3",
      "include_colab_link": true
    },
    "kernelspec": {
      "name": "python3",
      "display_name": "Python 3"
    },
    "language_info": {
      "name": "python"
    }
  },
  "cells": [
    {
      "cell_type": "markdown",
      "metadata": {
        "id": "view-in-github",
        "colab_type": "text"
      },
      "source": [
        "<a href=\"https://colab.research.google.com/github/cosmologycosmos/Cosmos_One/blob/main/sympy_.ipynb\" target=\"_parent\"><img src=\"https://colab.research.google.com/assets/colab-badge.svg\" alt=\"Open In Colab\"/></a>"
      ]
    },
    {
      "cell_type": "code",
      "metadata": {
        "id": "CM7JvabOojog"
      },
      "source": [
        "import sympy\n",
        "import math\n"
      ],
      "execution_count": 6,
      "outputs": []
    },
    {
      "cell_type": "code",
      "metadata": {
        "colab": {
          "base_uri": "https://localhost:8080/"
        },
        "id": "RGsp6ggXo3GR",
        "outputId": "5f020545-edb4-4533-84be-25c586e3ac50"
      },
      "source": [
        "math.sqrt(4)"
      ],
      "execution_count": 7,
      "outputs": [
        {
          "output_type": "execute_result",
          "data": {
            "text/plain": [
              "2.0"
            ]
          },
          "metadata": {
            "tags": []
          },
          "execution_count": 7
        }
      ]
    },
    {
      "cell_type": "code",
      "metadata": {
        "colab": {
          "base_uri": "https://localhost:8080/",
          "height": 37
        },
        "id": "8vPMObzro_8J",
        "outputId": "d928ae58-b82e-45ba-803b-4518fb919602"
      },
      "source": [
        "sympy.sqrt(4)"
      ],
      "execution_count": 8,
      "outputs": [
        {
          "output_type": "execute_result",
          "data": {
            "text/latex": "$\\displaystyle 2$",
            "text/plain": [
              "2"
            ]
          },
          "metadata": {
            "tags": []
          },
          "execution_count": 8
        }
      ]
    },
    {
      "cell_type": "code",
      "metadata": {
        "colab": {
          "base_uri": "https://localhost:8080/"
        },
        "id": "6v54PGqZpRT5",
        "outputId": "237e4738-67dc-4373-d060-1040ac3e3e5e"
      },
      "source": [
        "math.sqrt(2)"
      ],
      "execution_count": 9,
      "outputs": [
        {
          "output_type": "execute_result",
          "data": {
            "text/plain": [
              "1.4142135623730951"
            ]
          },
          "metadata": {
            "tags": []
          },
          "execution_count": 9
        }
      ]
    },
    {
      "cell_type": "code",
      "metadata": {
        "colab": {
          "base_uri": "https://localhost:8080/",
          "height": 38
        },
        "id": "BhxG7WoSpUd7",
        "outputId": "62a8c5ce-b5a7-4f46-d3e3-4e610dccbfd7"
      },
      "source": [
        "sympy.sqrt(2)"
      ],
      "execution_count": 10,
      "outputs": [
        {
          "output_type": "execute_result",
          "data": {
            "text/latex": "$\\displaystyle \\sqrt{2}$",
            "text/plain": [
              "sqrt(2)"
            ]
          },
          "metadata": {
            "tags": []
          },
          "execution_count": 10
        }
      ]
    },
    {
      "cell_type": "code",
      "metadata": {
        "colab": {
          "base_uri": "https://localhost:8080/"
        },
        "id": "Nb0GvAQPpyh2",
        "outputId": "bfcebff3-2690-4d3a-d0a5-9d40251fbfe2"
      },
      "source": [
        "math.sqrt(8)**2"
      ],
      "execution_count": 11,
      "outputs": [
        {
          "output_type": "execute_result",
          "data": {
            "text/plain": [
              "8.000000000000002"
            ]
          },
          "metadata": {
            "tags": []
          },
          "execution_count": 11
        }
      ]
    },
    {
      "cell_type": "code",
      "metadata": {
        "colab": {
          "base_uri": "https://localhost:8080/",
          "height": 37
        },
        "id": "8wKWdKyzqBaJ",
        "outputId": "414caa47-5b22-4032-f540-199279afa063"
      },
      "source": [
        "sympy.sqrt(8)**2"
      ],
      "execution_count": 12,
      "outputs": [
        {
          "output_type": "execute_result",
          "data": {
            "text/latex": "$\\displaystyle 8$",
            "text/plain": [
              "8"
            ]
          },
          "metadata": {
            "tags": []
          },
          "execution_count": 12
        }
      ]
    },
    {
      "cell_type": "code",
      "metadata": {
        "id": "ShGeUOIyqcnv"
      },
      "source": [
        "from sympy import *"
      ],
      "execution_count": 13,
      "outputs": []
    },
    {
      "cell_type": "code",
      "metadata": {
        "colab": {
          "base_uri": "https://localhost:8080/",
          "height": 37
        },
        "id": "tvONEYA1quQP",
        "outputId": "12f4cb4b-d566-4246-d719-992a8b4c1d0c"
      },
      "source": [
        "sympy.sqrt(4)"
      ],
      "execution_count": 14,
      "outputs": [
        {
          "output_type": "execute_result",
          "data": {
            "text/latex": "$\\displaystyle 2$",
            "text/plain": [
              "2"
            ]
          },
          "metadata": {
            "tags": []
          },
          "execution_count": 14
        }
      ]
    },
    {
      "cell_type": "code",
      "metadata": {
        "colab": {
          "base_uri": "https://localhost:8080/",
          "height": 38
        },
        "id": "PUgQMLRrrAs1",
        "outputId": "aff7f1ac-38a8-4fb8-a121-f22034d20b77"
      },
      "source": [
        "sqrt(2)"
      ],
      "execution_count": 15,
      "outputs": [
        {
          "output_type": "execute_result",
          "data": {
            "text/latex": "$\\displaystyle \\sqrt{2}$",
            "text/plain": [
              "sqrt(2)"
            ]
          },
          "metadata": {
            "tags": []
          },
          "execution_count": 15
        }
      ]
    },
    {
      "cell_type": "code",
      "metadata": {
        "colab": {
          "base_uri": "https://localhost:8080/",
          "height": 37
        },
        "id": "za86WAPDrSN6",
        "outputId": "871d623e-9dfd-4a15-9cfe-1f148a783eff"
      },
      "source": [
        "sqrt(2).evalf()"
      ],
      "execution_count": 16,
      "outputs": [
        {
          "output_type": "execute_result",
          "data": {
            "text/latex": "$\\displaystyle 1.4142135623731$",
            "text/plain": [
              "1.41421356237310"
            ]
          },
          "metadata": {
            "tags": []
          },
          "execution_count": 16
        }
      ]
    },
    {
      "cell_type": "code",
      "metadata": {
        "colab": {
          "base_uri": "https://localhost:8080/",
          "height": 37
        },
        "id": "z6twFfflrmuA",
        "outputId": "08d608ff-99aa-4f3f-d6f8-ca9da7afa272"
      },
      "source": [
        "sqrt(2).evalf(100)"
      ],
      "execution_count": 17,
      "outputs": [
        {
          "output_type": "execute_result",
          "data": {
            "text/latex": "$\\displaystyle 1.414213562373095048801688724209698078569671875376948073176679737990732478462107038850387534327641573$",
            "text/plain": [
              "1.414213562373095048801688724209698078569671875376948073176679737990732478462107038850387534327641573"
            ]
          },
          "metadata": {
            "tags": []
          },
          "execution_count": 17
        }
      ]
    },
    {
      "cell_type": "code",
      "metadata": {
        "colab": {
          "base_uri": "https://localhost:8080/",
          "height": 37
        },
        "id": "f_g29f7jsQ1h",
        "outputId": "c2de0651-de6a-4c4b-bc39-d1575b7234be"
      },
      "source": [
        "# oder mit N für Numeric\n",
        "N(pi)"
      ],
      "execution_count": 18,
      "outputs": [
        {
          "output_type": "execute_result",
          "data": {
            "text/latex": "$\\displaystyle 3.14159265358979$",
            "text/plain": [
              "3.14159265358979"
            ]
          },
          "metadata": {
            "tags": []
          },
          "execution_count": 18
        }
      ]
    },
    {
      "cell_type": "code",
      "metadata": {
        "colab": {
          "base_uri": "https://localhost:8080/",
          "height": 37
        },
        "id": "0RDAO8j8scdK",
        "outputId": "3f54777b-3538-415e-9488-53dc0b14207a"
      },
      "source": [
        "N(pi,5)            # 4 Kommastellen! Mit 5 siginifikanten Nachkommastellen. Nachkommastellen sind kein, Maß wie genau eine Zahl ist. "
      ],
      "execution_count": 19,
      "outputs": [
        {
          "output_type": "execute_result",
          "data": {
            "text/latex": "$\\displaystyle 3.1416$",
            "text/plain": [
              "3.1416"
            ]
          },
          "metadata": {
            "tags": []
          },
          "execution_count": 19
        }
      ]
    },
    {
      "cell_type": "code",
      "metadata": {
        "colab": {
          "base_uri": "https://localhost:8080/",
          "height": 37
        },
        "id": "yTYAgH5iucMH",
        "outputId": "e1925855-1c71-47c1-f581-3c49be50f7e7"
      },
      "source": [
        "N(pi,5)    # die 5. Stelle ist gerundet! Daher ungenau! Besser 6 Stellen anzeigen, um die Fünfte zu kriegen!\n",
        "N(pi,6)"
      ],
      "execution_count": 20,
      "outputs": [
        {
          "output_type": "execute_result",
          "data": {
            "text/latex": "$\\displaystyle 3.14159$",
            "text/plain": [
              "3.14159"
            ]
          },
          "metadata": {
            "tags": []
          },
          "execution_count": 20
        }
      ]
    },
    {
      "cell_type": "code",
      "metadata": {
        "colab": {
          "base_uri": "https://localhost:8080/",
          "height": 57
        },
        "id": "eeiM5twCMdnN",
        "outputId": "69c5a56b-7d4d-4711-d95a-a53cb0579cbb"
      },
      "source": [
        "N(pi,1000)"
      ],
      "execution_count": 21,
      "outputs": [
        {
          "output_type": "execute_result",
          "data": {
            "text/latex": "$\\displaystyle 3.141592653589793238462643383279502884197169399375105820974944592307816406286208998628034825342117067982148086513282306647093844609550582231725359408128481117450284102701938521105559644622948954930381964428810975665933446128475648233786783165271201909145648566923460348610454326648213393607260249141273724587006606315588174881520920962829254091715364367892590360011330530548820466521384146951941511609433057270365759591953092186117381932611793105118548074462379962749567351885752724891227938183011949129833673362440656643086021394946395224737190702179860943702770539217176293176752384674818467669405132000568127145263560827785771342757789609173637178721468440901224953430146549585371050792279689258923542019956112129021960864034418159813629774771309960518707211349999998372978049951059731732816096318595024459455346908302642522308253344685035261931188171010003137838752886587533208381420617177669147303598253490428755468731159562863882353787593751957781857780532171226806613001927876611195909216420199$",
            "text/plain": [
              "3.141592653589793238462643383279502884197169399375105820974944592307816406286208998628034825342117067982148086513282306647093844609550582231725359408128481117450284102701938521105559644622948954930381964428810975665933446128475648233786783165271201909145648566923460348610454326648213393607260249141273724587006606315588174881520920962829254091715364367892590360011330530548820466521384146951941511609433057270365759591953092186117381932611793105118548074462379962749567351885752724891227938183011949129833673362440656643086021394946395224737190702179860943702770539217176293176752384674818467669405132000568127145263560827785771342757789609173637178721468440901224953430146549585371050792279689258923542019956112129021960864034418159813629774771309960518707211349999998372978049951059731732816096318595024459455346908302642522308253344685035261931188171010003137838752886587533208381420617177669147303598253490428755468731159562863882353787593751957781857780532171226806613001927876611195909216420199"
            ]
          },
          "metadata": {
            "tags": []
          },
          "execution_count": 21
        }
      ]
    },
    {
      "cell_type": "code",
      "metadata": {
        "colab": {
          "base_uri": "https://localhost:8080/",
          "height": 38
        },
        "id": "YuEBxLQFM2-k",
        "outputId": "8c128fb8-8dec-4c5c-80b2-16985a442516"
      },
      "source": [
        "sqrt(2)                 #Vorsicht: sobald ich Fließkommazahl eingebe! 2 ergibt Latex! \" 2.0 ergibt den numerischen Wert\n",
        "                        #Vorsht: Die eltzte Stelle ermitteln bei Fließkommazahlen - die letzte Stelle ist gerundet, daher ein Stlle mehr angeben!"
      ],
      "execution_count": 22,
      "outputs": [
        {
          "output_type": "execute_result",
          "data": {
            "text/latex": "$\\displaystyle \\sqrt{2}$",
            "text/plain": [
              "sqrt(2)"
            ]
          },
          "metadata": {
            "tags": []
          },
          "execution_count": 22
        }
      ]
    },
    {
      "cell_type": "code",
      "metadata": {
        "colab": {
          "base_uri": "https://localhost:8080/",
          "height": 37
        },
        "id": "wUxTZzMZM8wR",
        "outputId": "9d796e1a-d8fa-4391-b1be-069bdf27eb36"
      },
      "source": [
        "sqrt(2.0)"
      ],
      "execution_count": 23,
      "outputs": [
        {
          "output_type": "execute_result",
          "data": {
            "text/latex": "$\\displaystyle 1.4142135623731$",
            "text/plain": [
              "1.41421356237310"
            ]
          },
          "metadata": {
            "tags": []
          },
          "execution_count": 23
        }
      ]
    },
    {
      "cell_type": "code",
      "metadata": {
        "id": "uKfWn3S4Now9"
      },
      "source": [
        "# Fließkomzahl mit  N und evalf() Näherungswerte ausrechnen!\n",
        "#Fließkommazahl ist für den Computer ein Freibrief nicht mehr exakt zu rechnen!!!!!!!!!!!!!! "
      ],
      "execution_count": 24,
      "outputs": []
    },
    {
      "cell_type": "code",
      "metadata": {
        "colab": {
          "base_uri": "https://localhost:8080/",
          "height": 37
        },
        "id": "RLH5-klNOXOY",
        "outputId": "8577d418-2b6e-4569-e04b-78f08de798df"
      },
      "source": [
        "# fließkommazahlen: Bei exakten Zahlen int Zahlen bleiben die Rechnungen exakt, aber nicht bei Division!\n",
        "sqrt(16/2)"
      ],
      "execution_count": 25,
      "outputs": [
        {
          "output_type": "execute_result",
          "data": {
            "text/latex": "$\\displaystyle 2.82842712474619$",
            "text/plain": [
              "2.82842712474619"
            ]
          },
          "metadata": {
            "tags": []
          },
          "execution_count": 25
        }
      ]
    },
    {
      "cell_type": "code",
      "metadata": {
        "colab": {
          "base_uri": "https://localhost:8080/",
          "height": 38
        },
        "id": "cI-V7XrBlGUb",
        "outputId": "69a0f7cd-9022-462c-d247-cbe406004c10"
      },
      "source": [
        "# Daher bei Division doppelte Striche //!!!!!!!\n",
        "sqrt(16//2)"
      ],
      "execution_count": 26,
      "outputs": [
        {
          "output_type": "execute_result",
          "data": {
            "text/latex": "$\\displaystyle 2 \\sqrt{2}$",
            "text/plain": [
              "2*sqrt(2)"
            ]
          },
          "metadata": {
            "tags": []
          },
          "execution_count": 26
        }
      ]
    },
    {
      "cell_type": "code",
      "metadata": {
        "colab": {
          "base_uri": "https://localhost:8080/",
          "height": 38
        },
        "id": "k5kIARyqlY7V",
        "outputId": "8300b660-9fa5-459b-9e15-2296ff324dc9"
      },
      "source": [
        "# oder mit fraction Modul arbeiten!!!!!!!!\n",
        "from fractions import Fraction\n",
        "\n",
        "sqrt(Fraction(16,2))"
      ],
      "execution_count": 27,
      "outputs": [
        {
          "output_type": "execute_result",
          "data": {
            "text/latex": "$\\displaystyle 2 \\sqrt{2}$",
            "text/plain": [
              "2*sqrt(2)"
            ]
          },
          "metadata": {
            "tags": []
          },
          "execution_count": 27
        }
      ]
    },
    {
      "cell_type": "code",
      "metadata": {
        "colab": {
          "base_uri": "https://localhost:8080/",
          "height": 38
        },
        "id": "4teHXMpPl8cM",
        "outputId": "ae3f697a-b98a-4531-e18c-a3bc0692a991"
      },
      "source": [
        "#in smpy auch Rational   -- geht wie Fraction\n",
        "sqrt(Rational(16,2))"
      ],
      "execution_count": 28,
      "outputs": [
        {
          "output_type": "execute_result",
          "data": {
            "text/latex": "$\\displaystyle 2 \\sqrt{2}$",
            "text/plain": [
              "2*sqrt(2)"
            ]
          },
          "metadata": {
            "tags": []
          },
          "execution_count": 28
        }
      ]
    },
    {
      "cell_type": "code",
      "metadata": {
        "colab": {
          "base_uri": "https://localhost:8080/",
          "height": 37
        },
        "id": "ktOYHIzgmt9B",
        "outputId": "64495d3c-8897-461b-86f7-0fda89f64dd0"
      },
      "source": [
        "sqrt(8/2) # geht wird Fließkommazahl ist 2.0\n",
        " "
      ],
      "execution_count": 29,
      "outputs": [
        {
          "output_type": "execute_result",
          "data": {
            "text/latex": "$\\displaystyle 2.0$",
            "text/plain": [
              "2.00000000000000"
            ]
          },
          "metadata": {
            "tags": []
          },
          "execution_count": 29
        }
      ]
    },
    {
      "cell_type": "code",
      "metadata": {
        "colab": {
          "base_uri": "https://localhost:8080/",
          "height": 37
        },
        "id": "mt4hLIeTnOWt",
        "outputId": "75f281dd-becf-4025-f906-c083430e346b"
      },
      "source": [
        "sqrt(sqrt(64)/2) # geht nicht!!!! "
      ],
      "execution_count": 30,
      "outputs": [
        {
          "output_type": "execute_result",
          "data": {
            "text/latex": "$\\displaystyle 2$",
            "text/plain": [
              "2"
            ]
          },
          "metadata": {
            "tags": []
          },
          "execution_count": 30
        }
      ]
    },
    {
      "cell_type": "code",
      "metadata": {
        "colab": {
          "base_uri": "https://localhost:8080/"
        },
        "id": "zTdVDdFRn_I2",
        "outputId": "855d467e-6405-4e18-f07d-3816769ef7c5"
      },
      "source": [
        "type(8)"
      ],
      "execution_count": 31,
      "outputs": [
        {
          "output_type": "execute_result",
          "data": {
            "text/plain": [
              "int"
            ]
          },
          "metadata": {
            "tags": []
          },
          "execution_count": 31
        }
      ]
    },
    {
      "cell_type": "code",
      "metadata": {
        "colab": {
          "base_uri": "https://localhost:8080/"
        },
        "id": "twp-rxqMoC8t",
        "outputId": "6895ac98-72f9-4c54-cecd-f28aac94efe9"
      },
      "source": [
        "type(sqrt(64))     ##   _sympy arbeitet Objekt orientiert: Ich halte keine Zahl 64 Int sondern ein Objekt! "
      ],
      "execution_count": 32,
      "outputs": [
        {
          "output_type": "execute_result",
          "data": {
            "text/plain": [
              "sympy.core.numbers.Integer"
            ]
          },
          "metadata": {
            "tags": []
          },
          "execution_count": 32
        }
      ]
    },
    {
      "cell_type": "code",
      "metadata": {
        "colab": {
          "base_uri": "https://localhost:8080/",
          "height": 185
        },
        "id": "nvxqPMNnopuz",
        "outputId": "b5977285-76df-4b4f-f9ad-d46824732027"
      },
      "source": [
        "a/b  # normalerweise entscheiden die Zahlen a und b, was bei Division, Addition usw. passiert!\n",
        "#bei sympy ist a und b keine Zahl sondern ein Objekt und sympy entscheidet was passiert!"
      ],
      "execution_count": 33,
      "outputs": [
        {
          "output_type": "error",
          "ename": "NameError",
          "evalue": "ignored",
          "traceback": [
            "\u001b[0;31m---------------------------------------------------------------------------\u001b[0m",
            "\u001b[0;31mNameError\u001b[0m                                 Traceback (most recent call last)",
            "\u001b[0;32m<ipython-input-33-6fb6b7fe4da1>\u001b[0m in \u001b[0;36m<module>\u001b[0;34m()\u001b[0m\n\u001b[0;32m----> 1\u001b[0;31m \u001b[0ma\u001b[0m\u001b[0;34m/\u001b[0m\u001b[0mb\u001b[0m  \u001b[0;31m# normalerweise entscheiden die Zahlen a und b, was bei Division, Addition usw. passiert!\u001b[0m\u001b[0;34m\u001b[0m\u001b[0;34m\u001b[0m\u001b[0m\n\u001b[0m\u001b[1;32m      2\u001b[0m \u001b[0;31m#bei sympy ist a und b keine Zahl sondern ein Objekt und sympy entscheidet was passiert!\u001b[0m\u001b[0;34m\u001b[0m\u001b[0;34m\u001b[0m\u001b[0;34m\u001b[0m\u001b[0m\n",
            "\u001b[0;31mNameError\u001b[0m: name 'a' is not defined"
          ]
        }
      ]
    },
    {
      "cell_type": "code",
      "metadata": {
        "colab": {
          "base_uri": "https://localhost:8080/",
          "height": 37
        },
        "id": "UIDvnjcppKJy",
        "outputId": "799bfbd8-2d34-4331-ecc4-54f176a6c04f"
      },
      "source": [
        "# Objekte in Zahlen umwandeln\n",
        "sympify(8)\n"
      ],
      "execution_count": 34,
      "outputs": [
        {
          "output_type": "execute_result",
          "data": {
            "text/latex": "$\\displaystyle 8$",
            "text/plain": [
              "8"
            ]
          },
          "metadata": {
            "tags": []
          },
          "execution_count": 34
        }
      ]
    },
    {
      "cell_type": "code",
      "metadata": {
        "colab": {
          "base_uri": "https://localhost:8080/",
          "height": 37
        },
        "id": "2RwZ97LzppQB",
        "outputId": "5c9dacbf-d633-4d3f-fb28-4f3f2f07d2ca"
      },
      "source": [
        "sympify(\"8/2\")    # \"8/2\" ist ein String\n"
      ],
      "execution_count": 35,
      "outputs": [
        {
          "output_type": "execute_result",
          "data": {
            "text/latex": "$\\displaystyle 4$",
            "text/plain": [
              "4"
            ]
          },
          "metadata": {
            "tags": []
          },
          "execution_count": 35
        }
      ]
    },
    {
      "cell_type": "code",
      "metadata": {
        "colab": {
          "base_uri": "https://localhost:8080/",
          "height": 37
        },
        "id": "Ijdlk0YoqBYo",
        "outputId": "841b5498-1cfc-4f11-e21b-8dec08e8a00c"
      },
      "source": [
        "  sympify(8/2)   # funktioniert aber nicht!  Erst wir (/2 ausgrechnet durch Python, dann aber zu spät, weil sympify das als Objet erkennt)"
      ],
      "execution_count": 36,
      "outputs": [
        {
          "output_type": "execute_result",
          "data": {
            "text/latex": "$\\displaystyle 4.0$",
            "text/plain": [
              "4.00000000000000"
            ]
          },
          "metadata": {
            "tags": []
          },
          "execution_count": 36
        }
      ]
    },
    {
      "cell_type": "code",
      "metadata": {
        "colab": {
          "base_uri": "https://localhost:8080/"
        },
        "id": "ukYPgYXyq5jp",
        "outputId": "750e6a55-9183-4626-fb56-6169649f9175"
      },
      "source": [
        "init_printing(pretty_print=False) #schaltet sympi aus!\n",
        "sqrt(8)   # ich halt python schreibweise!\n"
      ],
      "execution_count": 37,
      "outputs": [
        {
          "output_type": "execute_result",
          "data": {
            "text/plain": [
              "2*sqrt(2)"
            ]
          },
          "metadata": {
            "tags": []
          },
          "execution_count": 37
        }
      ]
    },
    {
      "cell_type": "code",
      "metadata": {
        "colab": {
          "base_uri": "https://localhost:8080/",
          "height": 38
        },
        "id": "5AxnvddererS",
        "outputId": "96659933-16cd-49fb-ea5a-7698fbc36b23"
      },
      "source": [
        "init_printing(pretty_print=True)\n",
        "sqrt(8)"
      ],
      "execution_count": 38,
      "outputs": [
        {
          "output_type": "execute_result",
          "data": {
            "image/png": "[encoded data removed]",
            "text/latex": "$\\displaystyle 2 \\sqrt{2}$",
            "text/plain": [
              "2⋅√2"
            ]
          },
          "metadata": {
            "tags": []
          },
          "execution_count": 38
        }
      ]
    },
    {
      "cell_type": "code",
      "metadata": {
        "colab": {
          "base_uri": "https://localhost:8080/"
        },
        "id": "Q9HLZhxirz4G",
        "outputId": "25d867b5-e8c9-46d8-e36d-5dab69c3a64d"
      },
      "source": [
        "print(sqrt(8))         # mit print kriege ich wiedewr python Ausgabe!"
      ],
      "execution_count": 39,
      "outputs": [
        {
          "output_type": "stream",
          "text": [
            "2*sqrt(2)\n"
          ],
          "name": "stdout"
        }
      ]
    },
    {
      "cell_type": "code",
      "metadata": {
        "colab": {
          "base_uri": "https://localhost:8080/",
          "height": 38
        },
        "id": "_Hnz--0csDng",
        "outputId": "d1c697fa-d28b-4cc1-e85e-272ec492d5ab"
      },
      "source": [
        "from IPython.display import display   # mit display kann man Fehler beheben\n",
        "display(sqrt(8))"
      ],
      "execution_count": 40,
      "outputs": [
        {
          "output_type": "display_data",
          "data": {
            "image/png": "[encoded data removed]",
            "text/latex": "$\\displaystyle 2 \\sqrt{2}$",
            "text/plain": [
              "2⋅√2"
            ]
          },
          "metadata": {
            "tags": []
          }
        }
      ]
    },
    {
      "cell_type": "code",
      "metadata": {
        "colab": {
          "base_uri": "https://localhost:8080/",
          "height": 167
        },
        "id": "ZR3ckOZcsY2j",
        "outputId": "264b0373-4456-4bde-d4cc-ad46827b211d"
      },
      "source": [
        "x"
      ],
      "execution_count": 41,
      "outputs": [
        {
          "output_type": "error",
          "ename": "NameError",
          "evalue": "ignored",
          "traceback": [
            "\u001b[0;31m---------------------------------------------------------------------------\u001b[0m",
            "\u001b[0;31mNameError\u001b[0m                                 Traceback (most recent call last)",
            "\u001b[0;32m<ipython-input-41-6fcf9dfbd479>\u001b[0m in \u001b[0;36m<module>\u001b[0;34m()\u001b[0m\n\u001b[0;32m----> 1\u001b[0;31m \u001b[0mx\u001b[0m\u001b[0;34m\u001b[0m\u001b[0;34m\u001b[0m\u001b[0m\n\u001b[0m",
            "\u001b[0;31mNameError\u001b[0m: name 'x' is not defined"
          ]
        }
      ]
    },
    {
      "cell_type": "code",
      "metadata": {
        "id": "kV0CCbQOsnUr"
      },
      "source": [
        "#aber:\n",
        "x = symbols(\"x\")"
      ],
      "execution_count": 42,
      "outputs": []
    },
    {
      "cell_type": "code",
      "metadata": {
        "id": "ZhmPWuO_s2EL"
      },
      "source": [
        "x = symbols(\"x\")"
      ],
      "execution_count": 43,
      "outputs": []
    },
    {
      "cell_type": "code",
      "metadata": {
        "colab": {
          "base_uri": "https://localhost:8080/",
          "height": 38
        },
        "id": "OvWZESWft5Ox",
        "outputId": "b428acc7-653e-459c-9e1c-718153fdb65e"
      },
      "source": [
        "x"
      ],
      "execution_count": 44,
      "outputs": [
        {
          "output_type": "execute_result",
          "data": {
            "image/png": "[encoded data removed]",
            "text/latex": "$\\displaystyle x$",
            "text/plain": [
              "x"
            ]
          },
          "metadata": {
            "tags": []
          },
          "execution_count": 44
        }
      ]
    },
    {
      "cell_type": "code",
      "metadata": {
        "colab": {
          "base_uri": "https://localhost:8080/"
        },
        "id": "cOaKliYGtOTn",
        "outputId": "d9b16177-bcfe-42d7-97d0-f6b76dda9184"
      },
      "source": [
        "type(x)        # jetzt phyton objekt vom TZype symbol damit kann ich rechnen"
      ],
      "execution_count": 45,
      "outputs": [
        {
          "output_type": "execute_result",
          "data": {
            "text/plain": [
              "sympy.core.symbol.Symbol"
            ]
          },
          "metadata": {
            "tags": []
          },
          "execution_count": 45
        }
      ]
    },
    {
      "cell_type": "code",
      "metadata": {
        "id": "EFXfS4yrt3IC"
      },
      "source": [
        ""
      ],
      "execution_count": 45,
      "outputs": []
    },
    {
      "cell_type": "code",
      "metadata": {
        "id": "oqiA3GiYtfxC"
      },
      "source": [
        "anders = symbols(\"x\")"
      ],
      "execution_count": 46,
      "outputs": []
    },
    {
      "cell_type": "code",
      "metadata": {
        "colab": {
          "base_uri": "https://localhost:8080/",
          "height": 38
        },
        "id": "mPoix9NTtuOf",
        "outputId": "09ca13e9-f700-43ab-8898-78448fca1ed7"
      },
      "source": [
        "anders"
      ],
      "execution_count": 47,
      "outputs": [
        {
          "output_type": "execute_result",
          "data": {
            "image/png": "[encoded data removed]",
            "text/latex": "$\\displaystyle x$",
            "text/plain": [
              "x"
            ]
          },
          "metadata": {
            "tags": []
          },
          "execution_count": 47
        }
      ]
    },
    {
      "cell_type": "code",
      "metadata": {
        "colab": {
          "base_uri": "https://localhost:8080/"
        },
        "id": "g1tuQgOnuA_q",
        "outputId": "533c78ac-d457-4873-cf51-72fe9420c99c"
      },
      "source": [
        "type(anders)    # damit kann ich rechnen!"
      ],
      "execution_count": 48,
      "outputs": [
        {
          "output_type": "execute_result",
          "data": {
            "text/plain": [
              "sympy.core.symbol.Symbol"
            ]
          },
          "metadata": {
            "tags": []
          },
          "execution_count": 48
        }
      ]
    },
    {
      "cell_type": "code",
      "metadata": {
        "colab": {
          "base_uri": "https://localhost:8080/",
          "height": 38
        },
        "id": "likGulUauU2n",
        "outputId": "8b48d629-313f-4b2f-9728-0235d0e65b1a"
      },
      "source": [
        "3*x"
      ],
      "execution_count": 49,
      "outputs": [
        {
          "output_type": "execute_result",
          "data": {
            "image/png": "[encoded data removed]",
            "text/latex": "$\\displaystyle 3 x$",
            "text/plain": [
              "3⋅x"
            ]
          },
          "metadata": {
            "tags": []
          },
          "execution_count": 49
        }
      ]
    },
    {
      "cell_type": "code",
      "metadata": {
        "colab": {
          "base_uri": "https://localhost:8080/",
          "height": 38
        },
        "id": "RfBRb4XDueuu",
        "outputId": "e463e712-4061-4c17-fac1-9cc141c51321"
      },
      "source": [
        "x*x"
      ],
      "execution_count": 50,
      "outputs": [
        {
          "output_type": "execute_result",
          "data": {
            "image/png": "[encoded data removed]",
            "text/latex": "$\\displaystyle x^{2}$",
            "text/plain": [
              " 2\n",
              "x "
            ]
          },
          "metadata": {
            "tags": []
          },
          "execution_count": 50
        }
      ]
    },
    {
      "cell_type": "code",
      "metadata": {
        "id": "HJs5eJ3Duirz"
      },
      "source": [
        "# Unterstrich _ ist in Jupiter die letzte Ausgabe!!!!!!!!\n",
        "pol = _"
      ],
      "execution_count": null,
      "outputs": []
    },
    {
      "cell_type": "code",
      "metadata": {
        "id": "GHbKg4mWvdFE"
      },
      "source": [
        ""
      ],
      "execution_count": 50,
      "outputs": []
    },
    {
      "cell_type": "code",
      "metadata": {
        "colab": {
          "base_uri": "https://localhost:8080/",
          "height": 167
        },
        "id": "3r6ChwRKu4j3",
        "outputId": "fe2b4a1e-7af2-42c2-c366-894ebebd3ca6"
      },
      "source": [
        "pol"
      ],
      "execution_count": 52,
      "outputs": [
        {
          "output_type": "error",
          "ename": "NameError",
          "evalue": "ignored",
          "traceback": [
            "\u001b[0;31m---------------------------------------------------------------------------\u001b[0m",
            "\u001b[0;31mNameError\u001b[0m                                 Traceback (most recent call last)",
            "\u001b[0;32m<ipython-input-52-90783fe3a206>\u001b[0m in \u001b[0;36m<module>\u001b[0;34m()\u001b[0m\n\u001b[0;32m----> 1\u001b[0;31m \u001b[0mpol\u001b[0m\u001b[0;34m\u001b[0m\u001b[0;34m\u001b[0m\u001b[0m\n\u001b[0m",
            "\u001b[0;31mNameError\u001b[0m: name 'pol' is not defined"
          ]
        }
      ]
    },
    {
      "cell_type": "code",
      "metadata": {
        "colab": {
          "base_uri": "https://localhost:8080/",
          "height": 38
        },
        "id": "QLzVuRTfvDcn",
        "outputId": "fd4b0e98-bcc1-4816-8a4a-0ce749ea88dc"
      },
      "source": [
        "x*x + 2*x -3"
      ],
      "execution_count": 53,
      "outputs": [
        {
          "output_type": "execute_result",
          "data": {
            "image/png": "[encoded data removed]",
            "text/latex": "$\\displaystyle x^{2} + 2 x - 3$",
            "text/plain": [
              " 2          \n",
              "x  + 2⋅x - 3"
            ]
          },
          "metadata": {
            "tags": []
          },
          "execution_count": 53
        }
      ]
    },
    {
      "cell_type": "code",
      "metadata": {
        "id": "7WwocgYwvej_"
      },
      "source": [
        "pol = _"
      ],
      "execution_count": 54,
      "outputs": []
    },
    {
      "cell_type": "code",
      "metadata": {
        "colab": {
          "base_uri": "https://localhost:8080/",
          "height": 38
        },
        "id": "0ejjyRlFvg7A",
        "outputId": "096be1d1-0c96-46b6-d393-09dbff480afa"
      },
      "source": [
        "pol - 2*x"
      ],
      "execution_count": 55,
      "outputs": [
        {
          "output_type": "execute_result",
          "data": {
            "image/png": "[encoded data removed]",
            "text/latex": "$\\displaystyle x^{2} - 3$",
            "text/plain": [
              " 2    \n",
              "x  - 3"
            ]
          },
          "metadata": {
            "tags": []
          },
          "execution_count": 55
        }
      ]
    },
    {
      "cell_type": "markdown",
      "metadata": {
        "id": "22q0e-5s6By5"
      },
      "source": [
        "# #***Folgen***\n",
        "\n",
        "---\n",
        "\n"
      ]
    },
    {
      "cell_type": "code",
      "metadata": {
        "id": "ERF51MXt6Kwb"
      },
      "source": [
        "# 1. Eine Laufvariabel definieren z.B. n"
      ],
      "execution_count": 56,
      "outputs": []
    },
    {
      "cell_type": "code",
      "metadata": {
        "id": "ymwc_Fbu6SQ8"
      },
      "source": [
        "n = symbols(\"n\")"
      ],
      "execution_count": 58,
      "outputs": []
    },
    {
      "cell_type": "code",
      "metadata": {
        "id": "ByHhhvA36n68"
      },
      "source": [
        "def seqX (n):\n",
        "  return (n**20) * (100000**n) /  (100001 **n)"
      ],
      "execution_count": 59,
      "outputs": []
    },
    {
      "cell_type": "code",
      "metadata": {
        "colab": {
          "base_uri": "https://localhost:8080/",
          "height": 37
        },
        "id": "xEfmP80X7fZ2",
        "outputId": "5ec40f35-5358-4b0c-9c10-acd3502ba5d8"
      },
      "source": [
        "limit(seqX(n), n,oo)"
      ],
      "execution_count": 60,
      "outputs": [
        {
          "output_type": "execute_result",
          "data": {
            "image/png": "[encoded data removed]",
            "text/latex": "$\\displaystyle 0$",
            "text/plain": [
              "0"
            ]
          },
          "metadata": {
            "tags": []
          },
          "execution_count": 60
        }
      ]
    },
    {
      "cell_type": "code",
      "metadata": {
        "id": "DJ2qzhno8Mel"
      },
      "source": [
        "f = (5* n**2 - 8*n + 12)/(7* n**2+12*n-42)"
      ],
      "execution_count": 61,
      "outputs": []
    },
    {
      "cell_type": "code",
      "metadata": {
        "id": "KdD0bhzJ9aXZ"
      },
      "source": [
        ""
      ],
      "execution_count": 61,
      "outputs": []
    },
    {
      "cell_type": "code",
      "metadata": {
        "colab": {
          "base_uri": "https://localhost:8080/",
          "height": 55
        },
        "id": "luK4PkUU8u0S",
        "outputId": "d2e296ac-4d31-452d-f0e4-4dcb34d1c2aa"
      },
      "source": [
        "f"
      ],
      "execution_count": 62,
      "outputs": [
        {
          "output_type": "execute_result",
          "data": {
            "image/png": "[encoded data removed]",
            "text/latex": "$\\displaystyle \\frac{5 n^{2} - 8 n + 12}{7 n^{2} + 12 n - 42}$",
            "text/plain": [
              "   2            \n",
              "5⋅n  - 8⋅n + 12 \n",
              "────────────────\n",
              "   2            \n",
              "7⋅n  + 12⋅n - 42"
            ]
          },
          "metadata": {
            "tags": []
          },
          "execution_count": 62
        }
      ]
    },
    {
      "cell_type": "code",
      "metadata": {
        "colab": {
          "base_uri": "https://localhost:8080/",
          "height": 51
        },
        "id": "ll3fSVpH843d",
        "outputId": "5e0a95eb-c59d-4741-d095-378c88eec2e3"
      },
      "source": [
        "limit(f, n, oo)"
      ],
      "execution_count": 63,
      "outputs": [
        {
          "output_type": "execute_result",
          "data": {
            "image/png": "[encoded data removed]",
            "text/latex": "$\\displaystyle \\frac{5}{7}$",
            "text/plain": [
              "5/7"
            ]
          },
          "metadata": {
            "tags": []
          },
          "execution_count": 63
        }
      ]
    },
    {
      "cell_type": "code",
      "metadata": {
        "id": "UTIvfhJ99bHG"
      },
      "source": [
        "g = (5* n**2 - 8*n + 12)/(7* n**3+12*n-42)"
      ],
      "execution_count": 64,
      "outputs": []
    },
    {
      "cell_type": "code",
      "metadata": {
        "colab": {
          "base_uri": "https://localhost:8080/",
          "height": 55
        },
        "id": "Hh7XAocI9kxC",
        "outputId": "58058f26-b074-42d4-ea84-0b321a9336b4"
      },
      "source": [
        "g"
      ],
      "execution_count": 65,
      "outputs": [
        {
          "output_type": "execute_result",
          "data": {
            "image/png": "[encoded data removed]",
            "text/latex": "$\\displaystyle \\frac{5 n^{2} - 8 n + 12}{7 n^{3} + 12 n - 42}$",
            "text/plain": [
              "   2            \n",
              "5⋅n  - 8⋅n + 12 \n",
              "────────────────\n",
              "   3            \n",
              "7⋅n  + 12⋅n - 42"
            ]
          },
          "metadata": {
            "tags": []
          },
          "execution_count": 65
        }
      ]
    },
    {
      "cell_type": "code",
      "metadata": {
        "colab": {
          "base_uri": "https://localhost:8080/",
          "height": 37
        },
        "id": "3jSJnCoO9lOC",
        "outputId": "7e9415e9-ad3b-436b-90d5-5aa5aeb6efad"
      },
      "source": [
        "limit(g, n, oo)"
      ],
      "execution_count": 66,
      "outputs": [
        {
          "output_type": "execute_result",
          "data": {
            "image/png": "[encoded data removed]",
            "text/latex": "$\\displaystyle 0$",
            "text/plain": [
              "0"
            ]
          },
          "metadata": {
            "tags": []
          },
          "execution_count": 66
        }
      ]
    },
    {
      "cell_type": "code",
      "metadata": {
        "id": "n1QRPv3g92J0"
      },
      "source": [
        "h = (5* n**4 - 8*n + 12)/(7* n**3+12*n-42)"
      ],
      "execution_count": 67,
      "outputs": []
    },
    {
      "cell_type": "code",
      "metadata": {
        "colab": {
          "base_uri": "https://localhost:8080/",
          "height": 55
        },
        "id": "smVAEIYn92v6",
        "outputId": "1f2e5a36-f263-4387-af3d-30ea09a576cd"
      },
      "source": [
        "h"
      ],
      "execution_count": 68,
      "outputs": [
        {
          "output_type": "execute_result",
          "data": {
            "image/png": "[encoded data removed]",
            "text/latex": "$\\displaystyle \\frac{5 n^{4} - 8 n + 12}{7 n^{3} + 12 n - 42}$",
            "text/plain": [
              "   4            \n",
              "5⋅n  - 8⋅n + 12 \n",
              "────────────────\n",
              "   3            \n",
              "7⋅n  + 12⋅n - 42"
            ]
          },
          "metadata": {
            "tags": []
          },
          "execution_count": 68
        }
      ]
    },
    {
      "cell_type": "code",
      "metadata": {
        "colab": {
          "base_uri": "https://localhost:8080/",
          "height": 37
        },
        "id": "L6mSmsPq96kZ",
        "outputId": "84f12248-4866-4850-df0e-d1b57994e157"
      },
      "source": [
        "limit(h, n, oo)"
      ],
      "execution_count": 69,
      "outputs": [
        {
          "output_type": "execute_result",
          "data": {
            "image/png": "[encoded data removed]",
            "text/latex": "$\\displaystyle \\infty$",
            "text/plain": [
              "∞"
            ]
          },
          "metadata": {
            "tags": []
          },
          "execution_count": 69
        }
      ]
    },
    {
      "cell_type": "code",
      "metadata": {
        "id": "wkFdR02h-c-u"
      },
      "source": [
        "# a und c sollen Konstanten sein mit symbols delklarieren\n",
        "a, c = symbols(\"a,c\")"
      ],
      "execution_count": 70,
      "outputs": []
    },
    {
      "cell_type": "code",
      "metadata": {
        "id": "qzwNJioZgrmq"
      },
      "source": [
        "k = c * a**(1/n) "
      ],
      "execution_count": 71,
      "outputs": []
    },
    {
      "cell_type": "code",
      "metadata": {
        "colab": {
          "base_uri": "https://localhost:8080/",
          "height": 41
        },
        "id": "D1xbKVGehHoi",
        "outputId": "55498715-a0e0-427b-8e80-beac06945637"
      },
      "source": [
        "k"
      ],
      "execution_count": 72,
      "outputs": [
        {
          "output_type": "execute_result",
          "data": {
            "image/png": "[encoded data removed]",
            "text/latex": "$\\displaystyle a^{\\frac{1}{n}} c$",
            "text/plain": [
              "n ___  \n",
              "╲╱ a ⋅c"
            ]
          },
          "metadata": {
            "tags": []
          },
          "execution_count": 72
        }
      ]
    },
    {
      "cell_type": "code",
      "metadata": {
        "id": "zfed9yLsnLAz",
        "outputId": "4b92a696-5a94-402c-f6cc-99479b647482",
        "colab": {
          "base_uri": "https://localhost:8080/",
          "height": 38
        }
      },
      "source": [
        "limit(k,n,oo)"
      ],
      "execution_count": 73,
      "outputs": [
        {
          "output_type": "execute_result",
          "data": {
            "image/png": "[encoded data removed]",
            "text/latex": "$\\displaystyle c$",
            "text/plain": [
              "c"
            ]
          },
          "metadata": {
            "tags": []
          },
          "execution_count": 73
        }
      ]
    },
    {
      "cell_type": "code",
      "metadata": {
        "id": "gIGKkRbPnoMk",
        "outputId": "5977cb6d-3319-430a-cf9e-2d1b1cdcfb28",
        "colab": {
          "base_uri": "https://localhost:8080/",
          "height": 37
        }
      },
      "source": [
        "limit((-1**n),n,oo)   # funktioniert nicht da sympy nicht ausgereift"
      ],
      "execution_count": 76,
      "outputs": [
        {
          "output_type": "execute_result",
          "data": {
            "image/png": "[encoded data removed]",
            "text/latex": "$\\displaystyle -1$",
            "text/plain": [
              "-1"
            ]
          },
          "metadata": {
            "tags": []
          },
          "execution_count": 76
        }
      ]
    },
    {
      "cell_type": "code",
      "metadata": {
        "id": "5mXykzlt6s3v"
      },
      "source": [
        ""
      ],
      "execution_count": null,
      "outputs": []
    },
    {
      "cell_type": "markdown",
      "metadata": {
        "id": "8BBSVDxm6uAb"
      },
      "source": [
        "*Summen **Text fett markieren** mit sympy*"
      ]
    },
    {
      "cell_type": "code",
      "metadata": {
        "id": "We4-V5n866yQ"
      },
      "source": [
        "k = symbols(\"k\")   # festlegen der Laufvariabel"
      ],
      "execution_count": 77,
      "outputs": []
    },
    {
      "cell_type": "code",
      "metadata": {
        "id": "EevJUMGu7HFE"
      },
      "source": [
        "s = Sum(k*k,(k,3,42))"
      ],
      "execution_count": 80,
      "outputs": []
    },
    {
      "cell_type": "code",
      "metadata": {
        "id": "yOhZJcFu7fT_",
        "outputId": "d408cf40-8fbe-4042-d42e-be4088c615a9",
        "colab": {
          "base_uri": "https://localhost:8080/",
          "height": 70
        }
      },
      "source": [
        "s"
      ],
      "execution_count": 81,
      "outputs": [
        {
          "output_type": "execute_result",
          "data": {
            "image/png": "[encoded data removed]",
            "text/latex": "$\\displaystyle \\sum_{k=3}^{42} k^{2}$",
            "text/plain": [
              "  42    \n",
              " ___    \n",
              " ╲      \n",
              "  ╲    2\n",
              "  ╱   k \n",
              " ╱      \n",
              " ‾‾‾    \n",
              "k = 3   "
            ]
          },
          "metadata": {
            "tags": []
          },
          "execution_count": 81
        }
      ]
    },
    {
      "cell_type": "code",
      "metadata": {
        "id": "Woz3BI_E7qyM",
        "outputId": "260ee532-1401-4d9b-c913-01af5ac15e88",
        "colab": {
          "base_uri": "https://localhost:8080/",
          "height": 37
        }
      },
      "source": [
        "s.doit()"
      ],
      "execution_count": 83,
      "outputs": [
        {
          "output_type": "execute_result",
          "data": {
            "image/png": "[encoded data removed]",
            "text/latex": "$\\displaystyle 25580$",
            "text/plain": [
              "25580"
            ]
          },
          "metadata": {
            "tags": []
          },
          "execution_count": 83
        }
      ]
    },
    {
      "cell_type": "code",
      "metadata": {
        "id": "ifu42lJT9Bhl",
        "outputId": "e07eeb12-d4a5-4d87-96bb-511140f5d8a5",
        "colab": {
          "base_uri": "https://localhost:8080/",
          "height": 37
        }
      },
      "source": [
        "sum(map(lambda k: k*k, range(3,43)))  #mit Python aber bis 43!  -- schleife wird durchlaufen"
      ],
      "execution_count": 86,
      "outputs": [
        {
          "output_type": "execute_result",
          "data": {
            "image/png": "[encoded data removed]",
            "text/latex": "$\\displaystyle 25580$",
            "text/plain": [
              "25580"
            ]
          },
          "metadata": {
            "tags": []
          },
          "execution_count": 86
        }
      ]
    },
    {
      "cell_type": "code",
      "metadata": {
        "id": "8HnlU3ub-9tc"
      },
      "source": [
        ""
      ],
      "execution_count": null,
      "outputs": []
    },
    {
      "cell_type": "code",
      "metadata": {
        "id": "TB8yEHte-IMD",
        "outputId": "091425df-bb97-4f49-c8d6-ff304f914cd4",
        "colab": {
          "base_uri": "https://localhost:8080/",
          "height": 37
        }
      },
      "source": [
        "Sum(k*k,(k,3,4200000)).doit()"
      ],
      "execution_count": 88,
      "outputs": [
        {
          "output_type": "execute_result",
          "data": {
            "image/png": "[encoded data removed]",
            "text/latex": "$\\displaystyle 24696008820000699995$",
            "text/plain": [
              "24696008820000699995"
            ]
          },
          "metadata": {
            "tags": []
          },
          "execution_count": 88
        }
      ]
    },
    {
      "cell_type": "code",
      "metadata": {
        "id": "_QaOR8dl-iEp",
        "outputId": "5d1efb49-11d9-4c77-8df7-f38a2ef54481",
        "colab": {
          "base_uri": "https://localhost:8080/"
        }
      },
      "source": [
        "%timeit Sum(k*k,(k,3,4200000)).doit()"
      ],
      "execution_count": 89,
      "outputs": [
        {
          "output_type": "stream",
          "text": [
            "1000 loops, best of 5: 993 µs per loop\n"
          ],
          "name": "stdout"
        }
      ]
    },
    {
      "cell_type": "code",
      "metadata": {
        "id": "a06UC9Sx--77",
        "outputId": "aea5735a-4bcf-4ef6-c159-ac7b7d352934",
        "colab": {
          "base_uri": "https://localhost:8080/"
        }
      },
      "source": [
        "%timeit sum(map(lambda k: k*k, range(3,4300000))) "
      ],
      "execution_count": 90,
      "outputs": [
        {
          "output_type": "stream",
          "text": [
            "1 loop, best of 5: 548 ms per loop\n"
          ],
          "name": "stdout"
        }
      ]
    },
    {
      "cell_type": "code",
      "metadata": {
        "id": "CvZxJPCvG1wa",
        "outputId": "b37c4f87-c570-4ffe-f463-cd386574d0fb",
        "colab": {
          "base_uri": "https://localhost:8080/",
          "height": 38
        }
      },
      "source": [
        "Sum(a*k*k,(k,3,4200000)).doit()  # mit a - geht nicht mit Python"
      ],
      "execution_count": 91,
      "outputs": [
        {
          "output_type": "execute_result",
          "data": {
            "image/png": "[encoded data removed]",
            "text/latex": "$\\displaystyle 24696008820000699995 a$",
            "text/plain": [
              "24696008820000699995⋅a"
            ]
          },
          "metadata": {
            "tags": []
          },
          "execution_count": 91
        }
      ]
    }
  ]
}