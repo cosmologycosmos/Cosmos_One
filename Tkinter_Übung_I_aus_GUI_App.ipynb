{
  "nbformat": 4,
  "nbformat_minor": 0,
  "metadata": {
    "colab": {
      "name": "Tkinter_Übung_I_aus_GUI_App.ipynb",
      "provenance": [],
      "include_colab_link": true
    },
    "kernelspec": {
      "name": "python3",
      "display_name": "Python 3"
    }
  },
  "cells": [
    {
      "cell_type": "markdown",
      "metadata": {
        "id": "view-in-github",
        "colab_type": "text"
      },
      "source": [
        "<a href=\"https://colab.research.google.com/github/cosmologycosmos/Cosmos_One/blob/main/Tkinter_%C3%9Cbung_I_aus_GUI_App.ipynb\" target=\"_parent\"><img src=\"https://colab.research.google.com/assets/colab-badge.svg\" alt=\"Open In Colab\"/></a>"
      ]
    },
    {
      "cell_type": "code",
      "metadata": {
        "colab": {
          "base_uri": "https://localhost:8080/"
        },
        "id": "Ym3iCDSTS-iY",
        "outputId": "264d8e64-f295-4fbc-908c-9ac4b778c7b9"
      },
      "source": [
        "#@title New String fields { run: \"auto\" }\n",
        "#Formularfelder\n",
        "text = '90, zweiter String, dritter String' #@param {type:\"string\"}\n",
        "dropdown = '2nd option' #@param [\"1st option\", \"2nd option\", \"3rd option\"]\n",
        "text_and_dropdown = '1st option' #@param [\"1st option\", \"2nd option\", \"3rd option\"] {allow-input: true}\n",
        "# {allow-input: true}\n",
        "print(text + ' oder value')\n",
        "print(dropdown)\n",
        "print(text_and_dropdown)"
      ],
      "execution_count": 44,
      "outputs": [
        {
          "output_type": "stream",
          "text": [
            "90, zweiter String, dritter String oder value\n",
            "2nd option\n",
            "1st option\n"
          ],
          "name": "stdout"
        }
      ]
    },
    {
      "cell_type": "code",
      "metadata": {
        "id": "QRSnnGD1TdA6",
        "colab": {
          "base_uri": "https://localhost:8080/"
        },
        "outputId": "4ff34555-978a-439f-c1c8-ffac6027d194"
      },
      "source": [
        "#@title Raw fields { run: \"auto\" }\n",
        "\n",
        "raw_input = None #@param {type:\"raw\"}\n",
        "raw_dropdown = False #@param [1, \"raw_input\", \"False\", \"'string'\"] {type:\"raw\"}\n",
        "\n",
        "print(raw_input)\n",
        "print(raw_dropdown)"
      ],
      "execution_count": 42,
      "outputs": [
        {
          "output_type": "stream",
          "text": [
            "None\n",
            "False\n"
          ],
          "name": "stdout"
        }
      ]
    },
    {
      "cell_type": "code",
      "metadata": {
        "id": "4U90oI3vTdRx",
        "colab": {
          "base_uri": "https://localhost:8080/"
        },
        "outputId": "6ad3c182-6c29-4bdc-aa49-d382a1c8b99e"
      },
      "source": [
        "#@title Date fields { run: \"auto\" }\n",
        "date_input = '2018-02-09' #@param {type:\"date\"}\n",
        "\n",
        "print(date_input)"
      ],
      "execution_count": 40,
      "outputs": [
        {
          "output_type": "stream",
          "text": [
            "2018-02-09\n"
          ],
          "name": "stdout"
        }
      ]
    },
    {
      "cell_type": "code",
      "metadata": {
        "colab": {
          "base_uri": "https://localhost:8080/"
        },
        "id": "oLWhq2y3TdTG",
        "outputId": "93b8fcb4-81b7-41dc-b5e1-286f77fd00c3"
      },
      "source": [
        "#@title Number fields { run: \"auto\" }\n",
        "number_input = 10.2 #@param {type:\"number\"}\n",
        "number_slider = -0.3 #@param {type:\"slider\", min:-1, max:1, step:0.1}\n",
        "\n",
        "integer_input = 6 #@param {type:\"integer\"}\n",
        "integer_slider = 40 #@param {type:\"slider\", min:0, max:100, step:1}\n",
        "\n",
        "print(number_input)\n",
        "print(number_slider)\n",
        "\n",
        "print(integer_input)\n",
        "print(integer_slider)"
      ],
      "execution_count": 37,
      "outputs": [
        {
          "output_type": "stream",
          "text": [
            "10.2\n",
            "-0.3\n",
            "6\n",
            "40\n"
          ],
          "name": "stdout"
        }
      ]
    },
    {
      "cell_type": "code",
      "metadata": {
        "colab": {
          "base_uri": "https://localhost:8080/"
        },
        "id": "VpOAUrnATdYG",
        "outputId": "2c5c1620-8a2f-4830-ffd5-cde1da2028dd"
      },
      "source": [
        "#@title Boolean fields { run: \"auto\" }\n",
        "boolean_checkbox = False #@param {type:\"boolean\"}\n",
        "boolean_dropdown = False #@param [\"False\", \"True\"] {type:\"raw\"}\n",
        "\n",
        "print(boolean_checkbox)\n",
        "print(boolean_dropdown)"
      ],
      "execution_count": 23,
      "outputs": [
        {
          "output_type": "stream",
          "text": [
            "False\n",
            "False\n"
          ],
          "name": "stdout"
        }
      ]
    },
    {
      "cell_type": "code",
      "metadata": {
        "id": "4VYMCUqoTdZe",
        "colab": {
          "base_uri": "https://localhost:8080/"
        },
        "outputId": "e476ccfd-bc0a-402f-f99c-0122b4904a6f"
      },
      "source": [
        "#@title After running this cell manually, it will auto-run if you change the selected value. { run: \"auto\" }\n",
        "# { run: \"auto\" } - auto run!111\n",
        "option2 = \"C\" #@param [\"A\", \"B\", \"C\"]\n",
        "print('You selected', option2)"
      ],
      "execution_count": 19,
      "outputs": [
        {
          "output_type": "stream",
          "text": [
            "You selected C\n"
          ],
          "name": "stdout"
        }
      ]
    },
    {
      "cell_type": "code",
      "metadata": {
        "id": "mooxDOn_Tdd3"
      },
      "source": [
        ""
      ],
      "execution_count": null,
      "outputs": []
    },
    {
      "cell_type": "code",
      "metadata": {
        "id": "x4HX24DaTdfd"
      },
      "source": [
        ""
      ],
      "execution_count": null,
      "outputs": []
    },
    {
      "cell_type": "code",
      "metadata": {
        "id": "e_ecXDnVTdjq"
      },
      "source": [
        ""
      ],
      "execution_count": null,
      "outputs": []
    },
    {
      "cell_type": "code",
      "metadata": {
        "id": "7WZwKIzmTdlM"
      },
      "source": [
        ""
      ],
      "execution_count": null,
      "outputs": []
    },
    {
      "cell_type": "code",
      "metadata": {
        "id": "miSNZ6LBTdpj"
      },
      "source": [
        ""
      ],
      "execution_count": null,
      "outputs": []
    },
    {
      "cell_type": "code",
      "metadata": {
        "id": "ZAdUzlzQTdr7"
      },
      "source": [
        ""
      ],
      "execution_count": null,
      "outputs": []
    }
  ]
}